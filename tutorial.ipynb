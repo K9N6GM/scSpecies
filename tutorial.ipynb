{
 "cells": [
  {
   "cell_type": "markdown",
   "metadata": {},
   "source": [
    "This tutorial demonstrates how to use scSpecies to perform latent alignments of three datasets spanning multiple species (mice, humans and hamsters).  \n",
    "Let us start by specifying the path where the datasets are downloaded to."
   ]
  },
  {
   "cell_type": "code",
   "execution_count": null,
   "metadata": {},
   "outputs": [],
   "source": [
    "import numpy as np\n",
    "import muon as mu\n",
    "import scanpy as sc\n",
    "import os\n",
    "\n",
    "path = os.path.abspath('').replace('\\\\', '/')+'/'"
   ]
  },
  {
   "cell_type": "markdown",
   "metadata": {},
   "source": [
    "As a first step we load the context and target dataset as `.h5ad` files.  \n",
    "This file format is used for storing annotated multidimensional data arrays, particularly in the field of genomics and bioinformatics.  \n",
    "It can be used via the AnnData python package, more information can be fond here: https://anndata.readthedocs.io/en/latest/.  \n",
    "\n",
    "We will use a subset of the mouse, hamster and human liver cell atlas.  \n",
    "As context dataset we will use the `mouse_liver_filtered.h5ad` file, which contains mice liver cell samples.   \n",
    "As target datasets we will use the `human_liver_filtered.h5ad` file, which contains human liver cell samples and\n",
    "the `hamster_liver_filtered.h5ad` file, which contains hamster liver cell samples.\n",
    "\n",
    "The human and mice datasets we use for this tutorial are preprocessed to speed up computations.  \n",
    "First, the dimensionality of the gene sets was reduced to 4000 highly variable genes that are expressed in more than 2.5% of cells.  \n",
    "Second, cells belonging to large cell types were randomly sampled to contain only around 1000 samples.  \n",
    "Third, unlabeled cells and cells with a labeling conflicts between fine and coarse labels were removed.  \n",
    "Lastly, we only included cells obtained via CITE-seq and scRNA-seq.  \n",
    "\n",
    "The full datasets can be downloaded at https://www.livercellatlas.org/."
   ]
  },
  {
   "cell_type": "code",
   "execution_count": null,
   "metadata": {},
   "outputs": [],
   "source": [
    "context_adata = sc.read_h5ad(path+\"dataset/mouse_liver_filtered.h5ad\")\n",
    "target_adata_human = sc.read_h5ad(path+\"dataset/human_liver_filtered.h5ad\")\n",
    "target_adata_hamster = sc.read_h5ad(path+\"dataset/hamster_liver.h5ad\")\n",
    "\n",
    "context_adata.X = context_adata.X.astype('float32')\n",
    "target_adata_human.X = target_adata_human.X.astype('float32')\n",
    "target_adata_hamster.X = target_adata_hamster.X.astype('float32')"
   ]
  },
  {
   "cell_type": "markdown",
   "metadata": {},
   "source": [
    "Next, we specify the `.obs` key under which the cell and batch labels for the context and target dataset are stored.  \n",
    "The cell labels for the target dataset are used only for plotting and for computing performance metrics but are not needed during training.  \n",
    "If the target cell labels are unknown this can be indicated by `target_cell_key = None`.  \n",
    "\n",
    "For precise metrics calculations and better visualization it may be necessary to manually change some cell type label names, \n",
    "so that their naming convention is consistent across the datasets.  \n",
    "\n",
    "We also have to specify the gene naming convention of the datasets.   \n",
    "Gene names following the human gene naming convention are mostly written in uppercase letters,  \n",
    "Gene names following the mice gene naming convention are mostly written in mixed case letters.  \n",
    "\n",
    "scSpecies can translate homologous genes between the human and mouse nomenclature.   \n",
    "For other species it can be beneficial to manually translate gene names of homologs to one of these conventions.   \n",
    "For the hamster dataset we will just assume the mouse nomenclature.  \n",
    "The number identified homologs in this way are enough so that we can perform a meaningful Nearest neighbor search.  "
   ]
  },
  {
   "cell_type": "code",
   "execution_count": null,
   "metadata": {},
   "outputs": [],
   "source": [
    "context_batch_key = 'batch'\n",
    "context_cell_key = 'cell_type_fine'\n",
    "print('\\nMouse context gene names: ', context_adata.var_names[0:5])\n",
    "\n",
    "human_batch_key = 'batch'\n",
    "human_cell_key = 'cell_type_fine'\n",
    "print('\\nHuman target gene names: ', target_adata_human.var_names[0:5])\n",
    "\n",
    "hamster_batch_key = 'batch'\n",
    "hamster_cell_key = 'cell_type_coarse'\n",
    "print('\\nHamster target gene names: ', target_adata_hamster.var_names[0:5])"
   ]
  },
  {
   "cell_type": "markdown",
   "metadata": {},
   "source": [
    "Next, we create a `muon.MuData` dataset (https://muon.readthedocs.io/en/latest/) which scSpecies uses during training.  \n",
    "Muon lets us define a container for multimodal data.  \n",
    "One modality will be the context mouse dataset and the other modalities are target datasets we want to align with the context.\n",
    "In our case these are human and hamster datasets.  \n",
    "We instantiate a preprocessing class and register context and target `anndata.AnnData` datasets.  \n",
    "\n",
    "This class translates the gene names, performs the data-level nearest neighbor search on homologous genes,   \n",
    "one-hot-encodes experimental batch effects, computes the library encoder prior parameters,   \n",
    "and optionally filters cells with low gene expression counts and reduces the gene dimensionality to highly variable genes.   \n",
    "We reduce the dimensionality of the human and mouse to the 2500 and of the hamster dataset to 3000 most highly variable genes.  \n",
    "This way we investigate if scSpecies can handle different context and target data dimensionalities."
   ]
  },
  {
   "cell_type": "code",
   "execution_count": null,
   "metadata": {},
   "outputs": [],
   "source": [
    "from preprocessing import create_mdata\n",
    "\n",
    "import warnings\n",
    "warnings.filterwarnings(\"ignore\", category=UserWarning)\n",
    "\n",
    "preprocess = create_mdata(context_adata, context_batch_key, context_cell_key, context_dataset_name='mouse', context_gene_naming_convention='mouse', context_n_top_genes=2500)\n",
    "preprocess.setup_target_adata(target_adata_human, human_batch_key, human_cell_key, target_dataset_name='human', target_gene_naming_convention='human', target_n_top_genes=2500)\n",
    "preprocess.setup_target_adata(target_adata_hamster, hamster_batch_key, hamster_cell_key, target_dataset_name='hamster', target_gene_naming_convention='mouse', target_n_top_genes=3000)\n",
    "\n",
    "preprocess.save_mdata(path, 'liver_atlas')"
   ]
  },
  {
   "cell_type": "markdown",
   "metadata": {},
   "source": [
    "Lets look at the created mdata object:  \n",
    "We have obtained a multimodal container that spans the three datasets.   \n",
    "The create_mdata class has added additional keys corresponding to the preprocessing steps.  \n",
    "\n",
    "![Created mdata file](figures/mdata.jpg)"
   ]
  },
  {
   "cell_type": "code",
   "execution_count": null,
   "metadata": {},
   "outputs": [],
   "source": [
    "mdata = mu.read_h5mu(path+\"dataset/liver_atlas.h5mu\")\n",
    "print(mdata)"
   ]
  },
  {
   "cell_type": "markdown",
   "metadata": {},
   "source": [
    "First lets focus on the mouse and human latent alignment. \n",
    "The alignment of the hamster will be performed later.\n",
    "\n",
    "We define the context and target scVI models by instantiating the scSpecies class.   \n",
    "We recommend using an NVIDIA GPU during training.  \n",
    "CPU training can be slow, and Apple Silicon runs into errors when trying to compute the log-gamma function for the scVI loss.   "
   ]
  },
  {
   "cell_type": "code",
   "execution_count": null,
   "metadata": {},
   "outputs": [],
   "source": [
    "from models import scSpecies\n",
    "import torch\n",
    "\n",
    "device = (\"cuda\" if torch.cuda.is_available() else \"cpu\")\n",
    "\n",
    "model = scSpecies(device, \n",
    "                mdata, \n",
    "                path,\n",
    "                context_dataset_key = 'mouse', \n",
    "                target_dataset_key = 'human',          \n",
    "                alignment = 'inter', \n",
    "                )"
   ]
  },
  {
   "cell_type": "markdown",
   "metadata": {},
   "source": [
    "We train and evaluate the context scVI model.  \n",
    "The model parameters are automatically saved to the specified path and the latent representations saved in the `muon.MuData` object at the context modality in the `.obsm` layer."
   ]
  },
  {
   "cell_type": "code",
   "execution_count": null,
   "metadata": {},
   "outputs": [],
   "source": [
    "model.train_context(25, save_key='_for_the_human_dataset')\n",
    "model.eval_context()"
   ]
  },
  {
   "cell_type": "markdown",
   "metadata": {},
   "source": [
    "Next we train and evaluate the target scVI model.\n",
    "We also track the loss of prototype cells, to monitor alignment."
   ]
  },
  {
   "cell_type": "code",
   "execution_count": null,
   "metadata": {},
   "outputs": [],
   "source": [
    "model.train_target(25, track_prototypes=True, save_key='_for_the_human_dataset')\n",
    "model.eval_target()"
   ]
  },
  {
   "cell_type": "markdown",
   "metadata": {},
   "source": [
    "After training, we can predict cell labels using the aligned representation.   \n",
    "We can compare the quality of the predicted labels with the data level nearest neighbor search.  \n",
    "The function takes as input a list of tuples of cell label keys that should be compared, in our case coarse and fine cell labels.  \n",
    "We see that the accuracy is higher for coarse cell labels, which is expected.  "
   ]
  },
  {
   "cell_type": "code",
   "execution_count": null,
   "metadata": {},
   "outputs": [],
   "source": [
    "model.eval_label_transfer(cell_keys = [('cell_type_coarse', 'cell_type_coarse'), ('cell_type_fine', 'cell_type_fine')])"
   ]
  },
  {
   "cell_type": "markdown",
   "metadata": {},
   "source": [
    "We can plot the results with a provided plotting function.  \n",
    "For other datasets the color palette should be adjusted when a consistent is wanted.  \n",
    "First we generate bar plots that indicate improvement over the data level NNS for the coarse cell labels:"
   ]
  },
  {
   "cell_type": "code",
   "execution_count": null,
   "metadata": {},
   "outputs": [],
   "source": [
    "from plot_utils import bar_plot\n",
    "\n",
    "bar_plot(model, save_path=path, cell_key= 'cell_type_coarse')"
   ]
  },
  {
   "cell_type": "markdown",
   "metadata": {},
   "source": [
    "And then for the fine cell labels:"
   ]
  },
  {
   "cell_type": "code",
   "execution_count": null,
   "metadata": {},
   "outputs": [],
   "source": [
    "bar_plot(model, save_path=path, cell_key= 'cell_type_fine')"
   ]
  },
  {
   "cell_type": "markdown",
   "metadata": {},
   "source": [
    "We can also visualize the aligned latent space:"
   ]
  },
  {
   "cell_type": "code",
   "execution_count": null,
   "metadata": {},
   "outputs": [],
   "source": [
    "from plot_utils import plot_umap\n",
    "\n",
    "plot_umap(model, context_cell_key = 'cell_type_fine', target_cell_key = 'cell_type_fine')        "
   ]
  },
  {
   "cell_type": "markdown",
   "metadata": {},
   "source": [
    "We can also visualize the likelihood of the cell prototypes during the alignment phase:"
   ]
  },
  {
   "cell_type": "code",
   "execution_count": null,
   "metadata": {},
   "outputs": [],
   "source": [
    "from plot_utils import plot_prototypes\n",
    "\n",
    "plot_prototypes(model)        "
   ]
  },
  {
   "cell_type": "markdown",
   "metadata": {},
   "source": [
    "Finally, the difference in modeled gene expression can be analyzed by comparing the log2-fold change in normalized gene expression.  \n",
    "The function plots the log2-fold change from context compared to target genes in all shared cell labels on the x-axis.  \n",
    "On the y-axis are the probabilities of a gene being differentially expressed at level `lfc_delta`"
   ]
  },
  {
   "cell_type": "code",
   "execution_count": null,
   "metadata": {},
   "outputs": [],
   "source": [
    "from plot_utils import plot_lfc\n",
    "\n",
    "model.compute_logfold_change(lfc_delta=1, context_cell_key='cell_type_fine', target_cell_key='cell_type_fine')\n",
    "plot_lfc(model, save_path=path, name='human')"
   ]
  },
  {
   "cell_type": "markdown",
   "metadata": {},
   "source": [
    "All results are written to the `model.mudata` object.  \n",
    "Let us take a look at how the scPecies workflow has modified the `MuData` object:\n",
    "\n",
    "![](figures/mdata_after_training.jpg)"
   ]
  },
  {
   "cell_type": "code",
   "execution_count": null,
   "metadata": {},
   "outputs": [],
   "source": [
    "print(model.mdata)"
   ]
  },
  {
   "cell_type": "markdown",
   "metadata": {},
   "source": [
    "Let's train a second scPecies model to align the hamster dataset.  \n",
    "We instantiate a second model and load the encoder parameters of the context encoder.\n",
    "\n",
    "If we want to identify differentially expressed genes the context decoder should be retrained.  "
   ]
  },
  {
   "cell_type": "code",
   "execution_count": null,
   "metadata": {},
   "outputs": [],
   "source": [
    "model_hamster = scSpecies(device, \n",
    "                mdata, \n",
    "                path,\n",
    "                context_dataset_key = 'mouse', \n",
    "                target_dataset_key = 'hamster',                                                   \n",
    "                )\n",
    "\n",
    "model_hamster.load_params('context_encoder', name='_for_the_human_dataset')\n",
    "\n",
    "model_hamster.train_context(25, train_decoder_only=True, save_key='_for_the_hamster_dataset')\n",
    "model_hamster.eval_context()\n",
    "\n",
    "model_hamster.train_target(25, save_key='_for_the_hamster_dataset')\n",
    "model_hamster.eval_target()\n",
    "\n",
    "model_hamster.eval_label_transfer(cell_keys = [('cell_type_coarse', 'cell_type_coarse')])\n",
    "model_hamster.compute_logfold_change(context_cell_key='cell_type_coarse', target_cell_key='cell_type_coarse')"
   ]
  },
  {
   "cell_type": "markdown",
   "metadata": {},
   "source": [
    "Again, we can visualize the results.  \n",
    "We can see for example that the hamster cDCs are aligned with the mice and humans cDC1s, cDC2s and pDCs.  \n",
    "As the fine hamster labels are unknown can this help us to infer the missing information."
   ]
  },
  {
   "cell_type": "code",
   "execution_count": null,
   "metadata": {},
   "outputs": [],
   "source": [
    "from plot_utils import plot_umap_three_species\n",
    "\n",
    "plot_umap_three_species(model, model_hamster, context_cell_key = 'cell_type_coarse', target_cell_key_1 = 'cell_type_coarse', target_cell_key_2 = 'cell_type_coarse', save_path=path)\n",
    "bar_plot(model_hamster, save_path=path, cell_key= 'cell_type_coarse', name='_hamster')\n",
    "plot_lfc(model_hamster, save_path=path, name='hamster')"
   ]
  }
 ],
 "metadata": {
  "kernelspec": {
   "display_name": "tensorflow",
   "language": "python",
   "name": "python3"
  },
  "language_info": {
   "codemirror_mode": {
    "name": "ipython",
    "version": 3
   },
   "file_extension": ".py",
   "mimetype": "text/x-python",
   "name": "python",
   "nbconvert_exporter": "python",
   "pygments_lexer": "ipython3",
   "version": "3.9.16"
  },
  "orig_nbformat": 4,
  "vscode": {
   "interpreter": {
    "hash": "9c21f28c68d3991a272eb9e65318d851a361f99ccab42ab97599ef8d4a966313"
   }
  }
 },
 "nbformat": 4,
 "nbformat_minor": 2
}
